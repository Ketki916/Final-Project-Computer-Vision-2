{
  "nbformat": 4,
  "nbformat_minor": 0,
  "metadata": {
    "colab": {
      "provenance": [],
      "gpuType": "T4"
    },
    "kernelspec": {
      "name": "python3",
      "display_name": "Python 3"
    },
    "language_info": {
      "name": "python"
    },
    "accelerator": "GPU"
  },
  "cells": [
    {
      "cell_type": "code",
      "source": [
        "import zipfile\n",
        "from google.colab import drive\n",
        "drive.mount('/content/drive/')\n",
        "zip_ref = zipfile.ZipFile(\"/content/drive/MyDrive/aider_data.zip\",\n",
        "'r')\n",
        "zip_ref.extractall(\"/tmp\")\n",
        "zip_ref.close()"
      ],
      "metadata": {
        "id": "XoPRZyZv0uXy",
        "colab": {
          "base_uri": "https://localhost:8080/"
        },
        "outputId": "36233788-dd8b-471f-ec89-ca7a84fbb274"
      },
      "execution_count": null,
      "outputs": [
        {
          "output_type": "stream",
          "name": "stdout",
          "text": [
            "Mounted at /content/drive/\n"
          ]
        }
      ]
    },
    {
      "cell_type": "code",
      "source": [
        "import numpy as np\n",
        "import pandas as pd\n",
        "from tensorflow.keras.preprocessing.image import ImageDataGenerator\n",
        "\n",
        "# Models\n",
        "import tensorflow as tf\n",
        "from tensorflow.keras.layers import Input\n",
        "from tensorflow.keras.layers import Flatten, Dense, Dropout, Conv2D, MaxPooling2D\n",
        "\n",
        "import os\n",
        "\n",
        "folder_path = '/tmp/AIDER'\n",
        "for dirname, _, filenames in os.walk(folder_path):\n",
        "    print(dirname)"
      ],
      "metadata": {
        "id": "jnM40jK80Cx4",
        "colab": {
          "base_uri": "https://localhost:8080/"
        },
        "outputId": "43e2b12d-ac75-4566-d501-5880de643e03"
      },
      "execution_count": null,
      "outputs": [
        {
          "output_type": "stream",
          "name": "stdout",
          "text": [
            "/tmp/AIDER\n",
            "/tmp/AIDER/flooded_areas\n",
            "/tmp/AIDER/traffic_incident\n",
            "/tmp/AIDER/collapsed_building\n",
            "/tmp/AIDER/normal\n",
            "/tmp/AIDER/fire\n"
          ]
        }
      ]
    },
    {
      "cell_type": "code",
      "source": [
        "from keras.preprocessing import image\n",
        "import matplotlib.pyplot as plt"
      ],
      "metadata": {
        "id": "gsqYnBEk0dx6"
      },
      "execution_count": null,
      "outputs": []
    },
    {
      "cell_type": "code",
      "source": [
        "import matplotlib.image as mpimg\n",
        "%matplotlib inline\n",
        "\n",
        "\n",
        "train_datagen = ImageDataGenerator(\n",
        "                fill_mode = 'nearest',\n",
        "                validation_split=0.2\n",
        "                )\n",
        "\n",
        "\n",
        "train_generator=train_datagen.flow_from_directory(\n",
        "    folder_path,\n",
        "    target_size=(108,108),\n",
        "    color_mode='rgb',\n",
        "    class_mode='categorical',\n",
        "    subset='training',\n",
        "    )\n",
        "\n",
        "\n",
        "validation_generator=train_datagen.flow_from_directory(\n",
        "    folder_path,\n",
        "    target_size=(108,108),\n",
        "    color_mode='rgb',\n",
        "    class_mode='categorical',\n",
        "    subset='validation',\n",
        "    )"
      ],
      "metadata": {
        "id": "dM7EA9qA0j2A",
        "colab": {
          "base_uri": "https://localhost:8080/"
        },
        "outputId": "fea832e7-656f-4fe7-ab0c-1c11eb3b801d"
      },
      "execution_count": null,
      "outputs": [
        {
          "output_type": "stream",
          "name": "stdout",
          "text": [
            "Found 5147 images belonging to 5 classes.\n",
            "Found 1286 images belonging to 5 classes.\n"
          ]
        }
      ]
    },
    {
      "cell_type": "code",
      "source": [
        "from keras.applications import ResNet152\n",
        "model = tf.keras.models.Sequential([\n",
        "    ResNet152(input_shape=(108,108,3), include_top=False),\n",
        "    ])\n",
        "for layer in model.layers:\n",
        "    layer.trainable = False\n",
        "\n",
        "\n",
        "model.add(Conv2D(64, (3,3), activation='relu'))\n",
        "model.add(MaxPooling2D(2,2))\n",
        "model.add(Flatten())\n",
        "model.add(Dense(64, activation='relu'))\n",
        "model.add(Dropout(0.4))\n",
        "model.add(Dense(5, activation='softmax'))\n",
        "model.summary()"
      ],
      "metadata": {
        "id": "-qCnxoex3iRn",
        "colab": {
          "base_uri": "https://localhost:8080/"
        },
        "outputId": "fcc33f1b-cb7f-42b5-8c8b-f00754ac7dee"
      },
      "execution_count": null,
      "outputs": [
        {
          "output_type": "stream",
          "name": "stdout",
          "text": [
            "Downloading data from https://storage.googleapis.com/tensorflow/keras-applications/resnet/resnet152_weights_tf_dim_ordering_tf_kernels_notop.h5\n",
            "234698864/234698864 [==============================] - 1s 0us/step\n",
            "Model: \"sequential\"\n",
            "_________________________________________________________________\n",
            " Layer (type)                Output Shape              Param #   \n",
            "=================================================================\n",
            " resnet152 (Functional)      (None, 4, 4, 2048)        58370944  \n",
            "                                                                 \n",
            " conv2d (Conv2D)             (None, 2, 2, 64)          1179712   \n",
            "                                                                 \n",
            " max_pooling2d (MaxPooling2  (None, 1, 1, 64)          0         \n",
            " D)                                                              \n",
            "                                                                 \n",
            " flatten (Flatten)           (None, 64)                0         \n",
            "                                                                 \n",
            " dense (Dense)               (None, 64)                4160      \n",
            "                                                                 \n",
            " dropout (Dropout)           (None, 64)                0         \n",
            "                                                                 \n",
            " dense_1 (Dense)             (None, 5)                 325       \n",
            "                                                                 \n",
            "=================================================================\n",
            "Total params: 59555141 (227.18 MB)\n",
            "Trainable params: 1184197 (4.52 MB)\n",
            "Non-trainable params: 58370944 (222.67 MB)\n",
            "_________________________________________________________________\n"
          ]
        }
      ]
    },
    {
      "cell_type": "code",
      "source": [
        "model.compile(optimizer='Adam',\n",
        "              loss='categorical_crossentropy',\n",
        "              metrics=['accuracy'])\n",
        "\n",
        "history = model.fit(train_generator,\n",
        "                    validation_data=validation_generator,\n",
        "                    epochs=25,\n",
        "                    verbose=1,\n",
        "                    )"
      ],
      "metadata": {
        "id": "cWvcVpqi3vk3",
        "colab": {
          "base_uri": "https://localhost:8080/"
        },
        "outputId": "21188761-2783-416f-ba93-621c9a8fb970"
      },
      "execution_count": null,
      "outputs": [
        {
          "output_type": "stream",
          "name": "stdout",
          "text": [
            "Epoch 1/25\n",
            "161/161 [==============================] - 38s 147ms/step - loss: 0.9328 - accuracy: 0.7571 - val_loss: 0.4897 - val_accuracy: 0.8600\n",
            "Epoch 2/25\n",
            "161/161 [==============================] - 19s 120ms/step - loss: 0.4408 - accuracy: 0.8692 - val_loss: 0.4328 - val_accuracy: 0.8585\n",
            "Epoch 3/25\n",
            "161/161 [==============================] - 18s 112ms/step - loss: 0.2522 - accuracy: 0.9223 - val_loss: 0.3609 - val_accuracy: 0.8896\n",
            "Epoch 4/25\n",
            "161/161 [==============================] - 18s 112ms/step - loss: 0.1732 - accuracy: 0.9485 - val_loss: 0.5028 - val_accuracy: 0.8942\n",
            "Epoch 5/25\n",
            "161/161 [==============================] - 18s 112ms/step - loss: 0.1151 - accuracy: 0.9662 - val_loss: 0.5506 - val_accuracy: 0.8927\n",
            "Epoch 6/25\n",
            "161/161 [==============================] - 18s 113ms/step - loss: 0.0964 - accuracy: 0.9711 - val_loss: 0.5508 - val_accuracy: 0.8639\n",
            "Epoch 7/25\n",
            "161/161 [==============================] - 18s 113ms/step - loss: 0.0857 - accuracy: 0.9755 - val_loss: 0.5592 - val_accuracy: 0.8802\n",
            "Epoch 8/25\n",
            "161/161 [==============================] - 18s 112ms/step - loss: 0.0705 - accuracy: 0.9779 - val_loss: 0.5490 - val_accuracy: 0.8911\n",
            "Epoch 9/25\n",
            "161/161 [==============================] - 19s 118ms/step - loss: 0.0800 - accuracy: 0.9753 - val_loss: 0.7015 - val_accuracy: 0.8865\n",
            "Epoch 10/25\n",
            "161/161 [==============================] - 18s 112ms/step - loss: 0.0728 - accuracy: 0.9773 - val_loss: 0.6012 - val_accuracy: 0.8888\n",
            "Epoch 11/25\n",
            "161/161 [==============================] - 18s 113ms/step - loss: 0.0413 - accuracy: 0.9878 - val_loss: 0.5194 - val_accuracy: 0.8950\n",
            "Epoch 12/25\n",
            "161/161 [==============================] - 18s 113ms/step - loss: 0.0331 - accuracy: 0.9881 - val_loss: 0.6313 - val_accuracy: 0.8935\n",
            "Epoch 13/25\n",
            "161/161 [==============================] - 18s 113ms/step - loss: 0.0275 - accuracy: 0.9895 - val_loss: 0.6653 - val_accuracy: 0.8935\n",
            "Epoch 14/25\n",
            "161/161 [==============================] - 18s 113ms/step - loss: 0.0289 - accuracy: 0.9895 - val_loss: 0.5781 - val_accuracy: 0.8981\n",
            "Epoch 15/25\n",
            "161/161 [==============================] - 18s 114ms/step - loss: 0.0383 - accuracy: 0.9885 - val_loss: 0.5406 - val_accuracy: 0.8865\n",
            "Epoch 16/25\n",
            "161/161 [==============================] - 19s 119ms/step - loss: 0.0684 - accuracy: 0.9812 - val_loss: 0.7913 - val_accuracy: 0.8919\n",
            "Epoch 17/25\n",
            "161/161 [==============================] - 19s 115ms/step - loss: 0.0825 - accuracy: 0.9765 - val_loss: 0.6908 - val_accuracy: 0.8810\n",
            "Epoch 18/25\n",
            "161/161 [==============================] - 19s 118ms/step - loss: 0.0548 - accuracy: 0.9812 - val_loss: 0.5923 - val_accuracy: 0.8935\n",
            "Epoch 19/25\n",
            "161/161 [==============================] - 19s 115ms/step - loss: 0.0398 - accuracy: 0.9854 - val_loss: 0.9035 - val_accuracy: 0.8600\n",
            "Epoch 20/25\n",
            "161/161 [==============================] - 19s 115ms/step - loss: 0.0288 - accuracy: 0.9899 - val_loss: 0.8586 - val_accuracy: 0.8896\n",
            "Epoch 21/25\n",
            "161/161 [==============================] - 19s 119ms/step - loss: 0.0217 - accuracy: 0.9916 - val_loss: 0.7484 - val_accuracy: 0.8872\n",
            "Epoch 22/25\n",
            "161/161 [==============================] - 18s 113ms/step - loss: 0.0180 - accuracy: 0.9922 - val_loss: 0.8669 - val_accuracy: 0.8810\n",
            "Epoch 23/25\n",
            "161/161 [==============================] - 20s 122ms/step - loss: 0.0181 - accuracy: 0.9926 - val_loss: 0.7675 - val_accuracy: 0.8942\n",
            "Epoch 24/25\n",
            "161/161 [==============================] - 18s 113ms/step - loss: 0.0188 - accuracy: 0.9924 - val_loss: 0.7939 - val_accuracy: 0.8872\n",
            "Epoch 25/25\n",
            "161/161 [==============================] - 19s 115ms/step - loss: 0.0167 - accuracy: 0.9930 - val_loss: 0.7928 - val_accuracy: 0.8927\n"
          ]
        }
      ]
    },
    {
      "cell_type": "code",
      "source": [
        "plt.plot(history.history['loss'])\n",
        "plt.plot(history.history['val_loss'])\n",
        "plt.title('Model Loss')\n",
        "plt.ylabel('loss')\n",
        "plt.xlabel('Epoch')\n",
        "plt.legend(['Train', 'Validation'], loc='lower right')\n",
        "plt.show()"
      ],
      "metadata": {
        "id": "cGjFVH3-4VFJ",
        "colab": {
          "base_uri": "https://localhost:8080/",
          "height": 472
        },
        "outputId": "d83a817b-5d80-4c10-db1c-3ca0f4ca985e"
      },
      "execution_count": null,
      "outputs": [
        {
          "output_type": "display_data",
          "data": {
            "text/plain": [
              "<Figure size 640x480 with 1 Axes>"
            ],
            "image/png": "[encoded data removed]"
          },
          "metadata": {}
        }
      ]
    },
    {
      "cell_type": "code",
      "source": [
        "import matplotlib.pyplot as plt\n",
        "plt.plot(history.history['accuracy'])\n",
        "plt.plot(history.history['val_accuracy'])\n",
        "plt.title('Model accuracy')\n",
        "plt.ylabel('Accuracy')\n",
        "plt.xlabel('Epoch')\n",
        "plt.legend(['Train', 'Validation'], loc='lower right')\n",
        "plt.show()"
      ],
      "metadata": {
        "id": "CzSACDhV4PTc",
        "colab": {
          "base_uri": "https://localhost:8080/",
          "height": 472
        },
        "outputId": "f99646bc-b914-4693-dfba-01ccb2f71949"
      },
      "execution_count": null,
      "outputs": [
        {
          "output_type": "display_data",
          "data": {
            "text/plain": [
              "<Figure size 640x480 with 1 Axes>"
            ],
            "image/png": "[encoded data removed]"
          },
          "metadata": {}
        }
      ]
    },
    {
      "cell_type": "code",
      "source": [
        "# Fine-tuning\n",
        "import numpy as np\n",
        "from tensorflow.keras.preprocessing.image import ImageDataGenerator\n",
        "from tensorflow.keras.applications import ResNet152\n",
        "from tensorflow.keras.models import Sequential\n",
        "from tensorflow.keras.layers import Conv2D, MaxPooling2D, Flatten, Dense, Dropout\n",
        "from tensorflow.keras.optimizers import Adam\n",
        "from sklearn.metrics import classification_report\n",
        "\n",
        "# Data Augmentation\n",
        "train_datagen = ImageDataGenerator(\n",
        "    fill_mode='nearest',\n",
        "    validation_split=0.2,\n",
        "    rotation_range=20,\n",
        "    width_shift_range=0.2,\n",
        "    height_shift_range=0.2,\n",
        "    shear_range=0.2,\n",
        "    zoom_range=0.2,\n",
        "    horizontal_flip=True,\n",
        "    vertical_flip=True,\n",
        "    )\n",
        "\n",
        "validation_datagen = ImageDataGenerator(\n",
        "    fill_mode='nearest',\n",
        "    validation_split=0.2,\n",
        "    )\n",
        "\n",
        "# Note: No need for a separate test data generator\n",
        "# Train, Validation, and Test Generators\n",
        "train_generator = train_datagen.flow_from_directory(\n",
        "    folder_path,\n",
        "    target_size=(108, 108),\n",
        "    color_mode='rgb',\n",
        "    class_mode='categorical',\n",
        "    subset='training',\n",
        "    )\n",
        "\n",
        "validation_generator = validation_datagen.flow_from_directory(\n",
        "    folder_path,\n",
        "    target_size=(108, 108),\n",
        "    color_mode='rgb',\n",
        "    class_mode='categorical',\n",
        "    subset='validation',\n",
        "    )\n",
        "\n",
        "\n",
        "# Note: No need for a separate test generator\n",
        "# Use the entire dataset for testing\n",
        "test_generator = validation_datagen.flow_from_directory(\n",
        "    folder_path,\n",
        "    target_size=(108, 108),\n",
        "    color_mode='rgb',\n",
        "    class_mode='categorical',\n",
        "    shuffle=False, # Do not shuffle the test set\n",
        "    )\n",
        "\n",
        "\n",
        "# Build Model\n",
        "model = Sequential([\n",
        "      ResNet152(input_shape=(108, 108, 3), include_top=False),\n",
        "])\n",
        "\n",
        "# Freeze ResNet layers\n",
        "for layer in model.layers:\n",
        "      layer.trainable = False\n",
        "\n",
        "\n",
        "# Add Custom Classification Head\n",
        "model.add(Conv2D(64, (3, 3), activation='relu'))\n",
        "model.add(MaxPooling2D(2, 2))\n",
        "model.add(Flatten())\n",
        "model.add(Dense(64, activation='relu'))\n",
        "model.add(Dropout(0.4))\n",
        "model.add(Dense(5, activation='softmax'))\n",
        "# Compile Model\n",
        "optimizer = Adam(learning_rate=0.001)\n",
        "\n",
        "\n",
        "model.compile(optimizer=optimizer, loss='categorical_crossentropy',\n",
        "metrics=['accuracy'])\n",
        "\n",
        "# Train Model\n",
        "history = model.fit(train_generator,\n",
        "                    validation_data=validation_generator,\n",
        "                    epochs=25,\n",
        "                    verbose=1,\n",
        "                    )\n",
        "\n",
        "\n",
        "# Evaluate on the Test Set\n",
        "test_loss, test_accuracy = model.evaluate(test_generator)\n",
        "print(f\"Test Accuracy: {test_accuracy}\")\n",
        "\n",
        "# Predict classes for the test set\n",
        "y_pred = model.predict(test_generator)\n",
        "y_pred_classes = np.argmax(y_pred, axis=1)\n",
        "# Get true classes from the generator\n",
        "y_true = test_generator.classes\n",
        "# Convert one-hot encoded class labels to integer labels\n",
        "class_labels = list(test_generator.class_indices.keys())\n",
        "y_true_labels = [class_labels[i] for i in y_true]\n",
        "y_pred_labels = [class_labels[i] for i in y_pred_classes]\n",
        "# Print the classification report\n",
        "print(classification_report(y_true_labels, y_pred_labels))"
      ],
      "metadata": {
        "id": "Xx3TJoarAPYj",
        "colab": {
          "base_uri": "https://localhost:8080/"
        },
        "outputId": "71ff3289-0667-42b3-d9ee-33c6c62ac6f5"
      },
      "execution_count": null,
      "outputs": [
        {
          "output_type": "stream",
          "name": "stdout",
          "text": [
            "Found 5147 images belonging to 5 classes.\n",
            "Found 1286 images belonging to 5 classes.\n",
            "Found 6433 images belonging to 5 classes.\n",
            "Epoch 1/25\n",
            "161/161 [==============================] - 45s 222ms/step - loss: 1.1120 - accuracy: 0.7049 - val_loss: 0.6601 - val_accuracy: 0.7862\n",
            "Epoch 2/25\n",
            "161/161 [==============================] - 35s 218ms/step - loss: 0.7123 - accuracy: 0.7717 - val_loss: 0.6054 - val_accuracy: 0.8118\n",
            "Epoch 3/25\n",
            "161/161 [==============================] - 32s 201ms/step - loss: 0.6216 - accuracy: 0.7873 - val_loss: 0.5122 - val_accuracy: 0.8289\n",
            "Epoch 4/25\n",
            "161/161 [==============================] - 33s 204ms/step - loss: 0.6041 - accuracy: 0.7956 - val_loss: 0.5894 - val_accuracy: 0.8110\n",
            "Epoch 5/25\n",
            "161/161 [==============================] - 33s 204ms/step - loss: 0.5112 - accuracy: 0.8189 - val_loss: 0.5719 - val_accuracy: 0.8398\n",
            "Epoch 6/25\n",
            "161/161 [==============================] - 32s 200ms/step - loss: 0.4912 - accuracy: 0.8440 - val_loss: 0.4920 - val_accuracy: 0.8616\n",
            "Epoch 7/25\n",
            "161/161 [==============================] - 33s 206ms/step - loss: 0.4578 - accuracy: 0.8556 - val_loss: 0.4534 - val_accuracy: 0.8569\n",
            "Epoch 8/25\n",
            "161/161 [==============================] - 32s 200ms/step - loss: 0.4390 - accuracy: 0.8630 - val_loss: 0.3992 - val_accuracy: 0.8834\n",
            "Epoch 9/25\n",
            "161/161 [==============================] - 32s 201ms/step - loss: 0.3929 - accuracy: 0.8760 - val_loss: 0.4866 - val_accuracy: 0.8631\n",
            "Epoch 10/25\n",
            "161/161 [==============================] - 33s 206ms/step - loss: 0.3703 - accuracy: 0.8768 - val_loss: 0.4784 - val_accuracy: 0.8647\n",
            "Epoch 11/25\n",
            "161/161 [==============================] - 32s 201ms/step - loss: 0.3735 - accuracy: 0.8805 - val_loss: 0.4399 - val_accuracy: 0.8655\n",
            "Epoch 12/25\n",
            "161/161 [==============================] - 34s 209ms/step - loss: 0.3649 - accuracy: 0.8807 - val_loss: 0.4743 - val_accuracy: 0.8663\n",
            "Epoch 13/25\n",
            "161/161 [==============================] - 32s 200ms/step - loss: 0.3682 - accuracy: 0.8844 - val_loss: 0.4153 - val_accuracy: 0.8810\n",
            "Epoch 14/25\n",
            "161/161 [==============================] - 33s 202ms/step - loss: 0.3345 - accuracy: 0.8895 - val_loss: 0.4673 - val_accuracy: 0.8663\n",
            "Epoch 15/25\n",
            "161/161 [==============================] - 33s 206ms/step - loss: 0.3414 - accuracy: 0.8889 - val_loss: 0.4194 - val_accuracy: 0.8748\n",
            "Epoch 16/25\n",
            "161/161 [==============================] - 33s 205ms/step - loss: 0.3311 - accuracy: 0.8906 - val_loss: 0.4202 - val_accuracy: 0.8771\n",
            "Epoch 17/25\n",
            "161/161 [==============================] - 32s 201ms/step - loss: 0.3007 - accuracy: 0.9011 - val_loss: 0.3742 - val_accuracy: 0.8896\n",
            "Epoch 18/25\n",
            "161/161 [==============================] - 34s 210ms/step - loss: 0.3039 - accuracy: 0.8961 - val_loss: 0.4349 - val_accuracy: 0.8802\n",
            "Epoch 19/25\n",
            "161/161 [==============================] - 32s 200ms/step - loss: 0.2975 - accuracy: 0.8978 - val_loss: 0.3969 - val_accuracy: 0.8834\n",
            "Epoch 20/25\n",
            "161/161 [==============================] - 34s 210ms/step - loss: 0.2929 - accuracy: 0.9025 - val_loss: 0.3451 - val_accuracy: 0.8974\n",
            "Epoch 21/25\n",
            "161/161 [==============================] - 32s 201ms/step - loss: 0.3139 - accuracy: 0.8937 - val_loss: 0.3775 - val_accuracy: 0.8826\n",
            "Epoch 22/25\n",
            "161/161 [==============================] - 32s 200ms/step - loss: 0.2860 - accuracy: 0.9050 - val_loss: 0.4454 - val_accuracy: 0.8826\n",
            "Epoch 23/25\n",
            "161/161 [==============================] - 34s 208ms/step - loss: 0.2964 - accuracy: 0.9046 - val_loss: 0.3551 - val_accuracy: 0.9020\n",
            "Epoch 24/25\n",
            "161/161 [==============================] - 33s 202ms/step - loss: 0.2900 - accuracy: 0.8988 - val_loss: 0.3720 - val_accuracy: 0.8935\n",
            "Epoch 25/25\n",
            "161/161 [==============================] - 34s 209ms/step - loss: 0.2599 - accuracy: 0.9128 - val_loss: 0.3776 - val_accuracy: 0.8919\n",
            "202/202 [==============================] - 20s 98ms/step - loss: 0.2454 - accuracy: 0.9215\n",
            "Test Accuracy: 0.9214985370635986\n",
            "202/202 [==============================] - 22s 98ms/step\n",
            "                    precision    recall  f1-score   support\n",
            "\n",
            "collapsed_building       0.87      0.79      0.83       511\n",
            "              fire       0.98      0.91      0.94       521\n",
            "     flooded_areas       0.87      0.69      0.77       526\n",
            "            normal       0.95      0.96      0.96      4390\n",
            "  traffic_incident       0.73      0.94      0.82       485\n",
            "\n",
            "          accuracy                           0.92      6433\n",
            "         macro avg       0.88      0.86      0.86      6433\n",
            "      weighted avg       0.92      0.92      0.92      6433\n",
            "\n"
          ]
        }
      ]
    }
  ]
}