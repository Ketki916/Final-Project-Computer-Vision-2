{
  "nbformat": 4,
  "nbformat_minor": 0,
  "metadata": {
    "colab": {
      "provenance": [],
      "gpuType": "T4"
    },
    "kernelspec": {
      "name": "python3",
      "display_name": "Python 3"
    },
    "language_info": {
      "name": "python"
    },
    "accelerator": "GPU"
  },
  "cells": [
    {
      "cell_type": "code",
      "source": [
        "import zipfile\n",
        "from google.colab import drive\n",
        "drive.mount('/content/drive/')\n",
        "zip_ref = zipfile.ZipFile(\"/content/drive/MyDrive/aider_data.zip\",\n",
        "'r')\n",
        "zip_ref.extractall(\"/tmp\")\n",
        "zip_ref.close()"
      ],
      "metadata": {
        "id": "XoPRZyZv0uXy",
        "colab": {
          "base_uri": "https://localhost:8080/"
        },
        "outputId": "05d36da6-bd77-4cfd-dcf8-6139173dacf7"
      },
      "execution_count": null,
      "outputs": [
        {
          "output_type": "stream",
          "name": "stdout",
          "text": [
            "Mounted at /content/drive/\n"
          ]
        }
      ]
    },
    {
      "cell_type": "code",
      "source": [
        "import numpy as np\n",
        "import pandas as pd\n",
        "from tensorflow.keras.preprocessing.image import ImageDataGenerator\n",
        "\n",
        "# Models\n",
        "import tensorflow as tf\n",
        "from tensorflow.keras.layers import Input\n",
        "from tensorflow.keras.layers import Flatten, Dense, Dropout, Conv2D, MaxPooling2D\n",
        "\n",
        "import os\n",
        "\n",
        "folder_path = '/tmp/AIDER'\n",
        "for dirname, _, filenames in os.walk(folder_path):\n",
        "    print(dirname)"
      ],
      "metadata": {
        "id": "jnM40jK80Cx4",
        "colab": {
          "base_uri": "https://localhost:8080/"
        },
        "outputId": "6bd83b01-eb7b-4fdc-d6bd-8829e0c90b53"
      },
      "execution_count": null,
      "outputs": [
        {
          "output_type": "stream",
          "name": "stdout",
          "text": [
            "/tmp/AIDER\n",
            "/tmp/AIDER/flooded_areas\n",
            "/tmp/AIDER/traffic_incident\n",
            "/tmp/AIDER/collapsed_building\n",
            "/tmp/AIDER/normal\n",
            "/tmp/AIDER/fire\n"
          ]
        }
      ]
    },
    {
      "cell_type": "code",
      "source": [
        "from keras.preprocessing import image\n",
        "import matplotlib.pyplot as plt"
      ],
      "metadata": {
        "id": "gsqYnBEk0dx6"
      },
      "execution_count": null,
      "outputs": []
    },
    {
      "cell_type": "code",
      "source": [
        "import matplotlib.image as mpimg\n",
        "%matplotlib inline\n",
        "\n",
        "\n",
        "train_datagen = ImageDataGenerator(\n",
        "                fill_mode = 'nearest',\n",
        "                validation_split=0.2\n",
        "                )\n",
        "\n",
        "\n",
        "train_generator=train_datagen.flow_from_directory(\n",
        "    folder_path,\n",
        "    target_size=(108,108),\n",
        "    color_mode='rgb',\n",
        "    class_mode='categorical',\n",
        "    subset='training',\n",
        "    )\n",
        "\n",
        "\n",
        "validation_generator=train_datagen.flow_from_directory(\n",
        "    folder_path,\n",
        "    target_size=(108,108),\n",
        "    color_mode='rgb',\n",
        "    class_mode='categorical',\n",
        "    subset='validation',\n",
        "    )"
      ],
      "metadata": {
        "id": "dM7EA9qA0j2A",
        "colab": {
          "base_uri": "https://localhost:8080/"
        },
        "outputId": "fde06035-0f53-4fb0-b482-a32771a3ec71"
      },
      "execution_count": null,
      "outputs": [
        {
          "output_type": "stream",
          "name": "stdout",
          "text": [
            "Found 5147 images belonging to 5 classes.\n",
            "Found 1286 images belonging to 5 classes.\n"
          ]
        }
      ]
    },
    {
      "cell_type": "code",
      "source": [
        "from keras.applications import ResNet101\n",
        "model = tf.keras.models.Sequential([\n",
        "    ResNet101(input_shape=(108,108,3), include_top=False),\n",
        "    ])\n",
        "for layer in model.layers:\n",
        "    layer.trainable = False\n",
        "\n",
        "\n",
        "model.add(Conv2D(64, (3,3), activation='relu'))\n",
        "model.add(MaxPooling2D(2,2))\n",
        "model.add(Flatten())\n",
        "model.add(Dense(64, activation='relu'))\n",
        "model.add(Dropout(0.4))\n",
        "model.add(Dense(5, activation='softmax'))\n",
        "model.summary()"
      ],
      "metadata": {
        "id": "-qCnxoex3iRn",
        "colab": {
          "base_uri": "https://localhost:8080/"
        },
        "outputId": "e4e45968-99d6-44c7-faf7-74ab7f8c9507"
      },
      "execution_count": null,
      "outputs": [
        {
          "output_type": "stream",
          "name": "stdout",
          "text": [
            "Downloading data from https://storage.googleapis.com/tensorflow/keras-applications/resnet/resnet101_weights_tf_dim_ordering_tf_kernels_notop.h5\n",
            "171446536/171446536 [==============================] - 4s 0us/step\n",
            "Model: \"sequential\"\n",
            "_________________________________________________________________\n",
            " Layer (type)                Output Shape              Param #   \n",
            "=================================================================\n",
            " resnet101 (Functional)      (None, 4, 4, 2048)        42658176  \n",
            "                                                                 \n",
            " conv2d (Conv2D)             (None, 2, 2, 64)          1179712   \n",
            "                                                                 \n",
            " max_pooling2d (MaxPooling2  (None, 1, 1, 64)          0         \n",
            " D)                                                              \n",
            "                                                                 \n",
            " flatten (Flatten)           (None, 64)                0         \n",
            "                                                                 \n",
            " dense (Dense)               (None, 64)                4160      \n",
            "                                                                 \n",
            " dropout (Dropout)           (None, 64)                0         \n",
            "                                                                 \n",
            " dense_1 (Dense)             (None, 5)                 325       \n",
            "                                                                 \n",
            "=================================================================\n",
            "Total params: 43842373 (167.25 MB)\n",
            "Trainable params: 1184197 (4.52 MB)\n",
            "Non-trainable params: 42658176 (162.73 MB)\n",
            "_________________________________________________________________\n"
          ]
        }
      ]
    },
    {
      "cell_type": "code",
      "source": [
        "model.compile(optimizer='Adam',\n",
        "              loss='categorical_crossentropy',\n",
        "              metrics=['accuracy'])\n",
        "\n",
        "history = model.fit(train_generator,\n",
        "                    validation_data=validation_generator,\n",
        "                    epochs=25,\n",
        "                    verbose=1,\n",
        "                    )"
      ],
      "metadata": {
        "id": "cWvcVpqi3vk3",
        "colab": {
          "base_uri": "https://localhost:8080/"
        },
        "outputId": "aa441106-67b0-4ade-a76b-998f456e1667"
      },
      "execution_count": null,
      "outputs": [
        {
          "output_type": "stream",
          "name": "stdout",
          "text": [
            "Epoch 1/25\n",
            "161/161 [==============================] - 34s 136ms/step - loss: 0.9482 - accuracy: 0.7367 - val_loss: 0.3659 - val_accuracy: 0.8810\n",
            "Epoch 2/25\n",
            "161/161 [==============================] - 17s 107ms/step - loss: 0.3712 - accuracy: 0.8768 - val_loss: 0.3803 - val_accuracy: 0.8764\n",
            "Epoch 3/25\n",
            "161/161 [==============================] - 19s 120ms/step - loss: 0.2634 - accuracy: 0.9157 - val_loss: 0.3545 - val_accuracy: 0.9020\n",
            "Epoch 4/25\n",
            "161/161 [==============================] - 18s 109ms/step - loss: 0.1475 - accuracy: 0.9516 - val_loss: 0.4983 - val_accuracy: 0.8888\n",
            "Epoch 5/25\n",
            "161/161 [==============================] - 17s 107ms/step - loss: 0.0942 - accuracy: 0.9726 - val_loss: 0.4032 - val_accuracy: 0.8904\n",
            "Epoch 6/25\n",
            "161/161 [==============================] - 19s 116ms/step - loss: 0.0636 - accuracy: 0.9798 - val_loss: 0.6969 - val_accuracy: 0.8639\n",
            "Epoch 7/25\n",
            "161/161 [==============================] - 18s 109ms/step - loss: 0.0952 - accuracy: 0.9701 - val_loss: 0.4718 - val_accuracy: 0.8919\n",
            "Epoch 8/25\n",
            "161/161 [==============================] - 20s 125ms/step - loss: 0.0564 - accuracy: 0.9864 - val_loss: 0.4011 - val_accuracy: 0.9160\n",
            "Epoch 9/25\n",
            "161/161 [==============================] - 18s 109ms/step - loss: 0.0532 - accuracy: 0.9864 - val_loss: 0.4980 - val_accuracy: 0.9028\n",
            "Epoch 10/25\n",
            "161/161 [==============================] - 17s 107ms/step - loss: 0.0313 - accuracy: 0.9903 - val_loss: 0.5040 - val_accuracy: 0.9090\n",
            "Epoch 11/25\n",
            "161/161 [==============================] - 18s 109ms/step - loss: 0.0305 - accuracy: 0.9915 - val_loss: 0.5061 - val_accuracy: 0.9067\n",
            "Epoch 12/25\n",
            "161/161 [==============================] - 17s 108ms/step - loss: 0.0373 - accuracy: 0.9905 - val_loss: 0.5812 - val_accuracy: 0.9028\n",
            "Epoch 13/25\n",
            "161/161 [==============================] - 17s 108ms/step - loss: 0.0200 - accuracy: 0.9944 - val_loss: 0.6358 - val_accuracy: 0.9028\n",
            "Epoch 14/25\n",
            "161/161 [==============================] - 19s 118ms/step - loss: 0.0099 - accuracy: 0.9979 - val_loss: 0.6128 - val_accuracy: 0.9036\n",
            "Epoch 15/25\n",
            "161/161 [==============================] - 18s 109ms/step - loss: 0.0126 - accuracy: 0.9983 - val_loss: 0.5485 - val_accuracy: 0.9067\n",
            "Epoch 16/25\n",
            "161/161 [==============================] - 17s 108ms/step - loss: 0.0273 - accuracy: 0.9953 - val_loss: 0.9953 - val_accuracy: 0.8927\n",
            "Epoch 17/25\n",
            "161/161 [==============================] - 19s 118ms/step - loss: 0.0710 - accuracy: 0.9810 - val_loss: 0.6479 - val_accuracy: 0.8981\n",
            "Epoch 18/25\n",
            "161/161 [==============================] - 17s 108ms/step - loss: 0.0610 - accuracy: 0.9887 - val_loss: 0.8271 - val_accuracy: 0.8740\n",
            "Epoch 19/25\n",
            "161/161 [==============================] - 18s 109ms/step - loss: 0.0559 - accuracy: 0.9845 - val_loss: 0.5645 - val_accuracy: 0.9207\n",
            "Epoch 20/25\n",
            "161/161 [==============================] - 18s 115ms/step - loss: 0.0514 - accuracy: 0.9922 - val_loss: 0.5661 - val_accuracy: 0.9012\n",
            "Epoch 21/25\n",
            "161/161 [==============================] - 17s 108ms/step - loss: 0.0369 - accuracy: 0.9907 - val_loss: 0.5251 - val_accuracy: 0.9152\n",
            "Epoch 22/25\n",
            "161/161 [==============================] - 17s 108ms/step - loss: 0.0165 - accuracy: 0.9959 - val_loss: 0.6977 - val_accuracy: 0.9012\n",
            "Epoch 23/25\n",
            "161/161 [==============================] - 19s 118ms/step - loss: 0.0068 - accuracy: 0.9986 - val_loss: 0.6677 - val_accuracy: 0.9137\n",
            "Epoch 24/25\n",
            "161/161 [==============================] - 17s 108ms/step - loss: 0.0100 - accuracy: 0.9990 - val_loss: 0.6524 - val_accuracy: 0.9160\n",
            "Epoch 25/25\n",
            "161/161 [==============================] - 19s 118ms/step - loss: 0.0129 - accuracy: 0.9973 - val_loss: 0.6615 - val_accuracy: 0.9184\n"
          ]
        }
      ]
    },
    {
      "cell_type": "code",
      "source": [
        "plt.plot(history.history['loss'])\n",
        "plt.plot(history.history['val_loss'])\n",
        "plt.title('Model Loss')\n",
        "plt.ylabel('loss')\n",
        "plt.xlabel('Epoch')\n",
        "plt.legend(['Train', 'Validation'], loc='lower right')\n",
        "plt.show()"
      ],
      "metadata": {
        "id": "cGjFVH3-4VFJ",
        "colab": {
          "base_uri": "https://localhost:8080/",
          "height": 472
        },
        "outputId": "5ced410e-42ee-4817-d793-22ca2c6edf3d"
      },
      "execution_count": null,
      "outputs": [
        {
          "output_type": "display_data",
          "data": {
            "text/plain": [
              "<Figure size 640x480 with 1 Axes>"
            ],
            "image/png": "[encoded data removed]"
          },
          "metadata": {}
        }
      ]
    },
    {
      "cell_type": "code",
      "source": [
        "import matplotlib.pyplot as plt\n",
        "plt.plot(history.history['accuracy'])\n",
        "plt.plot(history.history['val_accuracy'])\n",
        "plt.title('Model accuracy')\n",
        "plt.ylabel('Accuracy')\n",
        "plt.xlabel('Epoch')\n",
        "plt.legend(['Train', 'Validation'], loc='lower right')\n",
        "plt.show()"
      ],
      "metadata": {
        "id": "CzSACDhV4PTc",
        "colab": {
          "base_uri": "https://localhost:8080/",
          "height": 472
        },
        "outputId": "f42b918f-e2f6-4952-8d88-587b09e5164b"
      },
      "execution_count": null,
      "outputs": [
        {
          "output_type": "display_data",
          "data": {
            "text/plain": [
              "<Figure size 640x480 with 1 Axes>"
            ],
            "image/png": "[encoded data removed]"
          },
          "metadata": {}
        }
      ]
    },
    {
      "cell_type": "code",
      "source": [
        "# Fine-tuning\n",
        "import numpy as np\n",
        "from tensorflow.keras.preprocessing.image import ImageDataGenerator\n",
        "from tensorflow.keras.applications import ResNet101\n",
        "from tensorflow.keras.models import Sequential\n",
        "from tensorflow.keras.layers import Conv2D, MaxPooling2D, Flatten, Dense, Dropout\n",
        "from tensorflow.keras.optimizers import Adam\n",
        "from sklearn.metrics import classification_report\n",
        "\n",
        "# Data Augmentation\n",
        "train_datagen = ImageDataGenerator(\n",
        "    fill_mode='nearest',\n",
        "    validation_split=0.2,\n",
        "    rotation_range=20,\n",
        "    width_shift_range=0.2,\n",
        "    height_shift_range=0.2,\n",
        "    shear_range=0.2,\n",
        "    zoom_range=0.2,\n",
        "    horizontal_flip=True,\n",
        "    vertical_flip=True,\n",
        "    )\n",
        "\n",
        "validation_datagen = ImageDataGenerator(\n",
        "    fill_mode='nearest',\n",
        "    validation_split=0.2,\n",
        "    )\n",
        "\n",
        "# Note: No need for a separate test data generator\n",
        "# Train, Validation, and Test Generators\n",
        "train_generator = train_datagen.flow_from_directory(\n",
        "    folder_path,\n",
        "    target_size=(108, 108),\n",
        "    color_mode='rgb',\n",
        "    class_mode='categorical',\n",
        "    subset='training',\n",
        "    )\n",
        "\n",
        "validation_generator = validation_datagen.flow_from_directory(\n",
        "    folder_path,\n",
        "    target_size=(108, 108),\n",
        "    color_mode='rgb',\n",
        "    class_mode='categorical',\n",
        "    subset='validation',\n",
        "    )\n",
        "\n",
        "\n",
        "# Note: No need for a separate test generator\n",
        "# Use the entire dataset for testing\n",
        "test_generator = validation_datagen.flow_from_directory(\n",
        "    folder_path,\n",
        "    target_size=(108, 108),\n",
        "    color_mode='rgb',\n",
        "    class_mode='categorical',\n",
        "    shuffle=False, # Do not shuffle the test set\n",
        "    )\n",
        "\n",
        "\n",
        "# Build Model\n",
        "model = Sequential([\n",
        "      ResNet101(input_shape=(108, 108, 3), include_top=False),\n",
        "])\n",
        "\n",
        "# Freeze ResNet layers\n",
        "for layer in model.layers:\n",
        "      layer.trainable = False\n",
        "\n",
        "\n",
        "# Add Custom Classification Head\n",
        "model.add(Conv2D(64, (3, 3), activation='relu'))\n",
        "model.add(MaxPooling2D(2, 2))\n",
        "model.add(Flatten())\n",
        "model.add(Dense(64, activation='relu'))\n",
        "model.add(Dropout(0.4))\n",
        "model.add(Dense(5, activation='softmax'))\n",
        "# Compile Model\n",
        "optimizer = Adam(learning_rate=0.001)\n",
        "\n",
        "\n",
        "model.compile(optimizer=optimizer, loss='categorical_crossentropy',\n",
        "metrics=['accuracy'])\n",
        "\n",
        "# Train Model\n",
        "history = model.fit(train_generator,\n",
        "                    validation_data=validation_generator,\n",
        "                    epochs=25,\n",
        "                    verbose=1,\n",
        "                    )\n",
        "\n",
        "\n",
        "# Evaluate on the Test Set\n",
        "test_loss, test_accuracy = model.evaluate(test_generator)\n",
        "print(f\"Test Accuracy: {test_accuracy}\")\n",
        "\n",
        "# Predict classes for the test set\n",
        "y_pred = model.predict(test_generator)\n",
        "y_pred_classes = np.argmax(y_pred, axis=1)\n",
        "# Get true classes from the generator\n",
        "y_true = test_generator.classes\n",
        "# Convert one-hot encoded class labels to integer labels\n",
        "class_labels = list(test_generator.class_indices.keys())\n",
        "y_true_labels = [class_labels[i] for i in y_true]\n",
        "y_pred_labels = [class_labels[i] for i in y_pred_classes]\n",
        "# Print the classification report\n",
        "print(classification_report(y_true_labels, y_pred_labels))"
      ],
      "metadata": {
        "id": "Xx3TJoarAPYj",
        "colab": {
          "base_uri": "https://localhost:8080/"
        },
        "outputId": "c3973a4d-2f3f-4ed2-ae69-84d20809e843"
      },
      "execution_count": null,
      "outputs": [
        {
          "output_type": "stream",
          "name": "stdout",
          "text": [
            "Found 5147 images belonging to 5 classes.\n",
            "Found 1286 images belonging to 5 classes.\n",
            "Found 6433 images belonging to 5 classes.\n",
            "Downloading data from https://storage.googleapis.com/tensorflow/keras-applications/resnet/resnet101_weights_tf_dim_ordering_tf_kernels_notop.h5\n",
            "171446536/171446536 [==============================] - 8s 0us/step\n",
            "Epoch 1/25\n",
            "161/161 [==============================] - 46s 217ms/step - loss: 1.1962 - accuracy: 0.6660 - val_loss: 0.4671 - val_accuracy: 0.8437\n",
            "Epoch 2/25\n",
            "161/161 [==============================] - 30s 186ms/step - loss: 0.7230 - accuracy: 0.7636 - val_loss: 0.5267 - val_accuracy: 0.8219\n",
            "Epoch 3/25\n",
            "161/161 [==============================] - 30s 187ms/step - loss: 0.6373 - accuracy: 0.7808 - val_loss: 0.4692 - val_accuracy: 0.8421\n",
            "Epoch 4/25\n",
            "161/161 [==============================] - 31s 194ms/step - loss: 0.5611 - accuracy: 0.8115 - val_loss: 0.3816 - val_accuracy: 0.8663\n",
            "Epoch 5/25\n",
            "161/161 [==============================] - 30s 186ms/step - loss: 0.5084 - accuracy: 0.8216 - val_loss: 0.3579 - val_accuracy: 0.8764\n",
            "Epoch 6/25\n",
            "161/161 [==============================] - 34s 211ms/step - loss: 0.4524 - accuracy: 0.8438 - val_loss: 0.3936 - val_accuracy: 0.8795\n",
            "Epoch 7/25\n",
            "161/161 [==============================] - 31s 192ms/step - loss: 0.4373 - accuracy: 0.8450 - val_loss: 0.3624 - val_accuracy: 0.8872\n",
            "Epoch 8/25\n",
            "161/161 [==============================] - 30s 189ms/step - loss: 0.4134 - accuracy: 0.8560 - val_loss: 0.4021 - val_accuracy: 0.8624\n",
            "Epoch 9/25\n",
            "161/161 [==============================] - 30s 187ms/step - loss: 0.3966 - accuracy: 0.8659 - val_loss: 0.3800 - val_accuracy: 0.8694\n",
            "Epoch 10/25\n",
            "161/161 [==============================] - 32s 200ms/step - loss: 0.3825 - accuracy: 0.8735 - val_loss: 0.4112 - val_accuracy: 0.8764\n",
            "Epoch 11/25\n",
            "161/161 [==============================] - 30s 187ms/step - loss: 0.3741 - accuracy: 0.8741 - val_loss: 0.3713 - val_accuracy: 0.8795\n",
            "Epoch 12/25\n",
            "161/161 [==============================] - 30s 186ms/step - loss: 0.3332 - accuracy: 0.8854 - val_loss: 0.3748 - val_accuracy: 0.8872\n",
            "Epoch 13/25\n",
            "161/161 [==============================] - 32s 198ms/step - loss: 0.3538 - accuracy: 0.8795 - val_loss: 0.4260 - val_accuracy: 0.8857\n",
            "Epoch 14/25\n",
            "161/161 [==============================] - 30s 185ms/step - loss: 0.3364 - accuracy: 0.8844 - val_loss: 0.3613 - val_accuracy: 0.8865\n",
            "Epoch 15/25\n",
            "161/161 [==============================] - 30s 185ms/step - loss: 0.3232 - accuracy: 0.8912 - val_loss: 0.4711 - val_accuracy: 0.8810\n",
            "Epoch 16/25\n",
            "161/161 [==============================] - 32s 196ms/step - loss: 0.3067 - accuracy: 0.8914 - val_loss: 0.3277 - val_accuracy: 0.8997\n",
            "Epoch 17/25\n",
            "161/161 [==============================] - 30s 184ms/step - loss: 0.3267 - accuracy: 0.8883 - val_loss: 0.3512 - val_accuracy: 0.8841\n",
            "Epoch 18/25\n",
            "161/161 [==============================] - 30s 184ms/step - loss: 0.2837 - accuracy: 0.8997 - val_loss: 0.3692 - val_accuracy: 0.8935\n",
            "Epoch 19/25\n",
            "161/161 [==============================] - 31s 195ms/step - loss: 0.3026 - accuracy: 0.8933 - val_loss: 0.4086 - val_accuracy: 0.8849\n",
            "Epoch 20/25\n",
            "161/161 [==============================] - 30s 186ms/step - loss: 0.2977 - accuracy: 0.8994 - val_loss: 0.4096 - val_accuracy: 0.8810\n",
            "Epoch 21/25\n",
            "161/161 [==============================] - 30s 184ms/step - loss: 0.2870 - accuracy: 0.9085 - val_loss: 0.3565 - val_accuracy: 0.8989\n",
            "Epoch 22/25\n",
            "161/161 [==============================] - 31s 195ms/step - loss: 0.2930 - accuracy: 0.8976 - val_loss: 0.3772 - val_accuracy: 0.8950\n",
            "Epoch 23/25\n",
            "161/161 [==============================] - 30s 184ms/step - loss: 0.2809 - accuracy: 0.9069 - val_loss: 0.3295 - val_accuracy: 0.9114\n",
            "Epoch 24/25\n",
            "161/161 [==============================] - 30s 184ms/step - loss: 0.2654 - accuracy: 0.9137 - val_loss: 0.4057 - val_accuracy: 0.9005\n",
            "Epoch 25/25\n",
            "161/161 [==============================] - 30s 186ms/step - loss: 0.2731 - accuracy: 0.9100 - val_loss: 0.3360 - val_accuracy: 0.8997\n",
            "202/202 [==============================] - 18s 87ms/step - loss: 0.2068 - accuracy: 0.9318\n",
            "Test Accuracy: 0.9317581057548523\n",
            "202/202 [==============================] - 18s 82ms/step\n",
            "                    precision    recall  f1-score   support\n",
            "\n",
            "collapsed_building       0.95      0.69      0.80       511\n",
            "              fire       0.99      0.88      0.93       521\n",
            "     flooded_areas       0.90      0.87      0.88       526\n",
            "            normal       0.94      0.98      0.96      4390\n",
            "  traffic_incident       0.81      0.86      0.84       485\n",
            "\n",
            "          accuracy                           0.93      6433\n",
            "         macro avg       0.92      0.86      0.88      6433\n",
            "      weighted avg       0.93      0.93      0.93      6433\n",
            "\n"
          ]
        }
      ]
    }
  ]
}